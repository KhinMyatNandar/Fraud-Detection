{
  "nbformat": 4,
  "nbformat_minor": 0,
  "metadata": {
    "colab": {
      "provenance": [],
      "authorship_tag": "ABX9TyNdrfnGSsKAOjfAaI9XPlhj",
      "include_colab_link": true
    },
    "kernelspec": {
      "name": "python3",
      "display_name": "Python 3"
    },
    "language_info": {
      "name": "python"
    }
  },
  "cells": [
    {
      "cell_type": "markdown",
      "metadata": {
        "id": "view-in-github",
        "colab_type": "text"
      },
      "source": [
        "<a href=\"https://colab.research.google.com/github/KhinMyatNandar/Fraud-Detection/blob/main/Tomeklinks.ipynb\" target=\"_parent\"><img src=\"https://colab.research.google.com/assets/colab-badge.svg\" alt=\"Open In Colab\"/></a>"
      ]
    },
    {
      "cell_type": "code",
      "execution_count": null,
      "metadata": {
        "id": "p4JOjJ3s8sMp"
      },
      "outputs": [],
      "source": [
        "import numpy as np\n",
        "import pandas as pd\n",
        "import matplotlib.pyplot as plt\n",
        "import seaborn as sns\n",
        "from collections import Counter\n",
        "from sklearn.model_selection import train_test_split\n",
        "from imblearn.under_sampling import TomekLinks\n",
        "from sklearn.metrics import precision_score, recall_score, f1_score, roc_auc_score, average_precision_score\n",
        "from xgboost import XGBClassifier\n",
        "from sklearn.neighbors import KNeighborsClassifier\n",
        "from sklearn.tree import DecisionTreeClassifier\n",
        "from sklearn.ensemble import RandomForestClassifier\n",
        "from sklearn.linear_model import LogisticRegression"
      ]
    },
    {
      "cell_type": "code",
      "source": [
        "CCFD= pd.read_csv('/content/new_creditcard.csv')"
      ],
      "metadata": {
        "id": "RZtpsqWa-8eG"
      },
      "execution_count": null,
      "outputs": []
    },
    {
      "cell_type": "code",
      "source": [
        "df=pd.DataFrame(CCFD)"
      ],
      "metadata": {
        "id": "rpO8woNA-88X"
      },
      "execution_count": null,
      "outputs": []
    },
    {
      "cell_type": "code",
      "source": [
        "X=df.drop('Class', axis=1)\n",
        "y=df['Class']"
      ],
      "metadata": {
        "id": "gGgF97QC_BJW"
      },
      "execution_count": null,
      "outputs": []
    },
    {
      "cell_type": "code",
      "source": [
        "X_train, X_test, y_train, y_test = train_test_split(X, y, test_size=0.3, random_state=42)"
      ],
      "metadata": {
        "id": "n8e3kFML_DZn"
      },
      "execution_count": null,
      "outputs": []
    },
    {
      "cell_type": "code",
      "source": [
        "tomek= TomekLinks()"
      ],
      "metadata": {
        "id": "HFS9Xfk4-KMo"
      },
      "execution_count": null,
      "outputs": []
    },
    {
      "cell_type": "code",
      "source": [
        "# Apply Tomek Links to the training data\n",
        "X_train_tomek, y_train_tomek = tomek.fit_resample(X_train, y_train)\n"
      ],
      "metadata": {
        "id": "BnyHIqDz-rgt"
      },
      "execution_count": null,
      "outputs": []
    },
    {
      "cell_type": "code",
      "source": [
        "# Display the new class distribution\n",
        "print('Original dataset shape:', Counter(y_train))\n",
        "print('Tomek dataset shape:', Counter(y_train_tomek))"
      ],
      "metadata": {
        "colab": {
          "base_uri": "https://localhost:8080/"
        },
        "id": "mwPvslt9_OyO",
        "outputId": "2dece8e1-6b71-42c6-c379-272bb9915e9e"
      },
      "execution_count": null,
      "outputs": [
        {
          "output_type": "stream",
          "name": "stdout",
          "text": [
            "Original dataset shape: Counter({0: 198269, 1: 339})\n",
            "Tomek dataset shape: Counter({0: 198250, 1: 339})\n"
          ]
        }
      ]
    },
    {
      "cell_type": "code",
      "source": [
        "#plot the class distribution after SMOTE_ENN\n",
        "tomek_distribution = Counter(y_train_tomek)\n",
        "plt.figure(figsize=(8, 6))\n",
        "sns.barplot(x=list(tomek_distribution.keys()), y=list(tomek_distribution.values()))\n",
        "plt.xlabel('Class')\n",
        "plt.ylabel('Frequency')\n",
        "plt.title('Class Distribution after Tomek Links')"
      ],
      "metadata": {
        "colab": {
          "base_uri": "https://localhost:8080/",
          "height": 582
        },
        "id": "OSdb1WNH_Xyw",
        "outputId": "b5256164-20d6-4c97-c2e7-f3cff909ed67"
      },
      "execution_count": null,
      "outputs": [
        {
          "output_type": "execute_result",
          "data": {
            "text/plain": [
              "Text(0.5, 1.0, 'Class Distribution after Tomek Links')"
            ]
          },
          "metadata": {},
          "execution_count": 10
        },
        {
          "output_type": "display_data",
          "data": {
            "text/plain": [
              "<Figure size 800x600 with 1 Axes>"
            ],
            "image/png": "[encoded data removed]"
          },
          "metadata": {}
        }
      ]
    },
    {
      "cell_type": "code",
      "source": [
        "# Defining the models\n",
        "models={\n",
        "    \"Logistic Regression\": LogisticRegression(random_state=42, max_iter=1000),\n",
        "    \"XGBoost\": XGBClassifier(eval_metric='logloss', random_state=42),\n",
        "    \"K-Nearest Neighbors\": KNeighborsClassifier(),\n",
        "    \"Decision Tree\": DecisionTreeClassifier(random_state=42),\n",
        "    \"Random Forest\": RandomForestClassifier(random_state=42)\n",
        "}\n",
        "for i in range(len(list(models))):\n",
        "  #model= list(models.values())[i]#youtube\n",
        "    model_name=list(models.keys())[i]\n",
        "    model=list(models.values())[i]\n",
        "    #print(f\"Training {model}...\") #to ensure loop is worked\n",
        "    model.fit(X_train_tomek, y_train_tomek)#train model\n",
        "\n",
        "\n",
        "#predictions\n",
        "    y_train_pred_tomek= model.predict(X_train_tomek)\n",
        "    y_test_pred_tomek= model.predict(X_test)\n",
        "    y_test_proba_tomek= model.predict_proba(X_test)[:,1]#needed for AUC and AUPRC\n",
        "\n",
        "\n",
        "    #Training set performance\n",
        "    tomek_train_precision= precision_score(y_train_tomek, y_train_pred_tomek)\n",
        "    tomek_train_recall= recall_score(y_train_tomek, y_train_pred_tomek)\n",
        "    tomek_train_f1_score= f1_score(y_train_tomek, y_train_pred_tomek, average='weighted')\n",
        "    tomek_train_roc_auc= roc_auc_score(y_train_tomek, y_train_pred_tomek)\n",
        "    tomek_train_auprc= average_precision_score(y_train_tomek, y_train_pred_tomek)\n",
        "\n",
        "        #Testing set performance\n",
        "    tomek_test_precision= precision_score(y_test, y_test_pred_tomek)\n",
        "    tomek_test_recall= recall_score(y_test, y_test_pred_tomek)\n",
        "    tomek_test_f1_score= f1_score(y_test, y_test_pred_tomek, average='weighted')\n",
        "    tomek_test_roc_auc= roc_auc_score(y_test, y_test_pred_tomek)\n",
        "    tomek_test_auprc= average_precision_score(y_test, y_test_pred_tomek)\n",
        "\n",
        "        #print(list(models.keys())[i])\n",
        "    print(f\"Model:{model_name}\")\n",
        "    print('Model performace for Training set with tomek')\n",
        "    print(\"- Precision : {:.4f}\".format(tomek_train_precision))\n",
        "    print(\"- Recall : {:.4f}\".format(tomek_train_recall))\n",
        "    print(\"- F1 Score : {:.4f}\".format(tomek_train_f1_score))\n",
        "    print(\"- AUC-ROC : {:.4f}\".format(tomek_train_roc_auc))\n",
        "    print(\"- AUPRC : {:.4f}\".format(tomek_train_auprc))\n",
        "\n",
        "    print('----------------------------------')\n",
        "\n",
        "    print('Model performace for Testing set with tomek')\n",
        "    print(\"- Precision : {:.4f}\".format(tomek_test_precision))\n",
        "    print(\"- Recall : {:.4f}\".format(tomek_test_recall))\n",
        "    print(\"- F1 Score : {:.4f}\".format(tomek_test_f1_score))\n",
        "    print(\"- AUC-ROC : {:.4f}\".format(tomek_test_roc_auc))\n",
        "    print(\"- AUPRC : {:.4f}\".format(tomek_test_auprc))\n",
        "\n",
        "    print('='*35)\n",
        "    print('\\n')"
      ],
      "metadata": {
        "colab": {
          "base_uri": "https://localhost:8080/"
        },
        "id": "qK1cEgMGOTs9",
        "outputId": "b8f1dd8e-6c32-46b4-d58f-74cee1b91fef"
      },
      "execution_count": null,
      "outputs": [
        {
          "output_type": "stream",
          "name": "stdout",
          "text": [
            "Model:Logistic Regression\n",
            "Model performace for Training set with tomek\n",
            "- Precision : 0.8760\n",
            "- Recall : 0.6254\n",
            "- F1 Score : 0.9991\n",
            "- AUC-ROC : 0.8126\n",
            "- AUPRC : 0.5485\n",
            "----------------------------------\n",
            "Model performace for Testing set with tomek\n",
            "- Precision : 0.8667\n",
            "- Recall : 0.5821\n",
            "- F1 Score : 0.9991\n",
            "- AUC-ROC : 0.7910\n",
            "- AUPRC : 0.5051\n",
            "===================================\n",
            "\n",
            "\n",
            "Model:XGBoost\n",
            "Model performace for Training set with tomek\n",
            "- Precision : 1.0000\n",
            "- Recall : 1.0000\n",
            "- F1 Score : 1.0000\n",
            "- AUC-ROC : 1.0000\n",
            "- AUPRC : 1.0000\n",
            "----------------------------------\n",
            "Model performace for Testing set with tomek\n",
            "- Precision : 0.9252\n",
            "- Recall : 0.7388\n",
            "- F1 Score : 0.9995\n",
            "- AUC-ROC : 0.8694\n",
            "- AUPRC : 0.6840\n",
            "===================================\n",
            "\n",
            "\n",
            "Model:K-Nearest Neighbors\n",
            "Model performace for Training set with tomek\n",
            "- Precision : 0.9577\n",
            "- Recall : 0.8024\n",
            "- F1 Score : 0.9996\n",
            "- AUC-ROC : 0.9011\n",
            "- AUPRC : 0.7688\n",
            "----------------------------------\n",
            "Model performace for Testing set with tomek\n",
            "- Precision : 0.9245\n",
            "- Recall : 0.7313\n",
            "- F1 Score : 0.9995\n",
            "- AUC-ROC : 0.8656\n",
            "- AUPRC : 0.6766\n",
            "===================================\n",
            "\n",
            "\n",
            "Model:Decision Tree\n",
            "Model performace for Training set with tomek\n",
            "- Precision : 1.0000\n",
            "- Recall : 1.0000\n",
            "- F1 Score : 1.0000\n",
            "- AUC-ROC : 1.0000\n",
            "- AUPRC : 1.0000\n",
            "----------------------------------\n",
            "Model performace for Testing set with tomek\n",
            "- Precision : 0.6759\n",
            "- Recall : 0.7313\n",
            "- F1 Score : 0.9990\n",
            "- AUC-ROC : 0.8654\n",
            "- AUPRC : 0.4947\n",
            "===================================\n",
            "\n",
            "\n",
            "Model:Random Forest\n",
            "Model performace for Training set with tomek\n",
            "- Precision : 1.0000\n",
            "- Recall : 1.0000\n",
            "- F1 Score : 1.0000\n",
            "- AUC-ROC : 1.0000\n",
            "- AUPRC : 1.0000\n",
            "----------------------------------\n",
            "Model performace for Testing set with tomek\n",
            "- Precision : 0.9346\n",
            "- Recall : 0.7463\n",
            "- F1 Score : 0.9995\n",
            "- AUC-ROC : 0.8731\n",
            "- AUPRC : 0.6978\n",
            "===================================\n",
            "\n",
            "\n"
          ]
        }
      ]
    }
  ]
}