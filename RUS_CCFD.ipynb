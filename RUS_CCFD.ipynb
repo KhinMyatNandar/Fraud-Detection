{
  "nbformat": 4,
  "nbformat_minor": 0,
  "metadata": {
    "colab": {
      "provenance": [],
      "authorship_tag": "ABX9TyNcP7UZn7npnlbFcDJb49O1",
      "include_colab_link": true
    },
    "kernelspec": {
      "name": "python3",
      "display_name": "Python 3"
    },
    "language_info": {
      "name": "python"
    }
  },
  "cells": [
    {
      "cell_type": "markdown",
      "metadata": {
        "id": "view-in-github",
        "colab_type": "text"
      },
      "source": [
        "<a href=\"https://colab.research.google.com/github/KhinMyatNandar/Fraud-Detection/blob/main/RUS_CCFD.ipynb\" target=\"_parent\"><img src=\"https://colab.research.google.com/assets/colab-badge.svg\" alt=\"Open In Colab\"/></a>"
      ]
    },
    {
      "cell_type": "code",
      "execution_count": null,
      "metadata": {
        "id": "JlKg8NYn2PlK"
      },
      "outputs": [],
      "source": [
        "import numpy as np\n",
        "import pandas as pd\n",
        "import matplotlib.pyplot as plt\n",
        "import seaborn as sns\n",
        "from collections import Counter\n",
        "from sklearn.model_selection import train_test_split\n",
        "from imblearn.under_sampling import RandomUnderSampler\n",
        "from sklearn.metrics import precision_score, recall_score, f1_score, roc_auc_score, average_precision_score\n",
        "from xgboost import XGBClassifier\n",
        "from sklearn.neighbors import KNeighborsClassifier\n",
        "from sklearn.tree import DecisionTreeClassifier\n",
        "from sklearn.ensemble import RandomForestClassifier\n",
        "from sklearn.linear_model import LogisticRegression\n"
      ]
    },
    {
      "cell_type": "code",
      "source": [
        "CCFD= pd.read_csv('/content/new_creditcard.csv')"
      ],
      "metadata": {
        "id": "BXfuGvBO2qf7"
      },
      "execution_count": null,
      "outputs": []
    },
    {
      "cell_type": "code",
      "source": [
        "df=pd.DataFrame(CCFD)"
      ],
      "metadata": {
        "id": "Qr-puxWZ2rj0"
      },
      "execution_count": null,
      "outputs": []
    },
    {
      "cell_type": "markdown",
      "source": [
        "# DATA Splitting\n"
      ],
      "metadata": {
        "id": "pSAGpg3G21nG"
      }
    },
    {
      "cell_type": "code",
      "source": [
        "from sklearn.model_selection import train_test_split"
      ],
      "metadata": {
        "id": "BDiJs8OU25ZG"
      },
      "execution_count": null,
      "outputs": []
    },
    {
      "cell_type": "code",
      "source": [
        "#Separate the features and target variables\n",
        "X= df.drop(\"Class\", axis=1)\n",
        "y= df[\"Class\"]#target variables"
      ],
      "metadata": {
        "id": "05xk-vLB3I5C"
      },
      "execution_count": null,
      "outputs": []
    },
    {
      "cell_type": "code",
      "source": [
        "#Split the dataset into 70% and 30%\n",
        "X_train, X_test, y_train, y_test = train_test_split(X, y, test_size=0.3,stratify=y, random_state=42)"
      ],
      "metadata": {
        "id": "dgjhyQqJ3Kuy"
      },
      "execution_count": null,
      "outputs": []
    },
    {
      "cell_type": "markdown",
      "source": [
        "#RUS"
      ],
      "metadata": {
        "id": "Wq46snp53Ykx"
      }
    },
    {
      "cell_type": "code",
      "source": [
        "rus=RandomUnderSampler(random_state=42)\n",
        "X_train_rus, y_train_rus= rus.fit_resample(X_train, y_train)"
      ],
      "metadata": {
        "id": "tsYAf_i03aQf"
      },
      "execution_count": null,
      "outputs": []
    },
    {
      "cell_type": "code",
      "source": [
        "# Display the new class distribution\n",
        "print('Original dataset shape:', Counter(y_train))\n",
        "print('RUS dataset shape:', Counter(y_train_rus))"
      ],
      "metadata": {
        "id": "nXw2mWlc3j3P",
        "outputId": "ac7e6bf9-b72c-454c-9bdf-09f6b5138aaf",
        "colab": {
          "base_uri": "https://localhost:8080/"
        }
      },
      "execution_count": null,
      "outputs": [
        {
          "output_type": "error",
          "ename": "NameError",
          "evalue": "name 'Counter' is not defined",
          "traceback": [
            "\u001b[0;31m---------------------------------------------------------------------------\u001b[0m",
            "\u001b[0;31mNameError\u001b[0m                                 Traceback (most recent call last)",
            "\u001b[0;32m<ipython-input-1-0e7df425f4a6>\u001b[0m in \u001b[0;36m<cell line: 2>\u001b[0;34m()\u001b[0m\n\u001b[1;32m      1\u001b[0m \u001b[0;31m# Display the new class distribution\u001b[0m\u001b[0;34m\u001b[0m\u001b[0;34m\u001b[0m\u001b[0m\n\u001b[0;32m----> 2\u001b[0;31m \u001b[0mprint\u001b[0m\u001b[0;34m(\u001b[0m\u001b[0;34m'Original dataset shape:'\u001b[0m\u001b[0;34m,\u001b[0m \u001b[0mCounter\u001b[0m\u001b[0;34m(\u001b[0m\u001b[0my_train\u001b[0m\u001b[0;34m)\u001b[0m\u001b[0;34m)\u001b[0m\u001b[0;34m\u001b[0m\u001b[0;34m\u001b[0m\u001b[0m\n\u001b[0m\u001b[1;32m      3\u001b[0m \u001b[0mprint\u001b[0m\u001b[0;34m(\u001b[0m\u001b[0;34m'RUS dataset shape:'\u001b[0m\u001b[0;34m,\u001b[0m \u001b[0mCounter\u001b[0m\u001b[0;34m(\u001b[0m\u001b[0my_train_rus\u001b[0m\u001b[0;34m)\u001b[0m\u001b[0;34m)\u001b[0m\u001b[0;34m\u001b[0m\u001b[0;34m\u001b[0m\u001b[0m\n",
            "\u001b[0;31mNameError\u001b[0m: name 'Counter' is not defined"
          ]
        }
      ]
    },
    {
      "cell_type": "code",
      "source": [
        "# Plot the class distribution after RUS\n",
        "rus_distribution = Counter(y_train_rus)\n",
        "plt.figure(figsize=(10, 5))\n",
        "sns.barplot(x=list(rus_distribution.keys()), y=list(rus_distribution.values()))\n",
        "plt.title('Class Distribution After Random UnderSampling (RUS)')\n",
        "plt.xlabel('Class')\n",
        "plt.ylabel('Frequency')\n",
        "plt.show()"
      ],
      "metadata": {
        "id": "SzcC6MXC3lxZ"
      },
      "execution_count": null,
      "outputs": []
    },
    {
      "cell_type": "code",
      "source": [
        "# Defining the models\n",
        "models={\n",
        "    \"Logistic Regression\": LogisticRegression(random_state=42, max_iter=1000),\n",
        "    \"XGBoost\": XGBClassifier(eval_metric='logloss', random_state=42),\n",
        "    \"K-Nearest Neighbors\": KNeighborsClassifier(),\n",
        "    \"Decision Tree\": DecisionTreeClassifier(random_state=42),\n",
        "    \"Random Forest\": RandomForestClassifier(random_state=42)\n",
        "}\n",
        "for i in range(len(list(models))):\n",
        "  #model= list(models.values())[i]#youtube\n",
        "    model_name=list(models.keys())[i]\n",
        "    model=list(models.values())[i]\n",
        "    #print(f\"Training {model}...\") #to ensure loop is worked\n",
        "    model.fit(X_train_rus, y_train_rus)#train model\n",
        "\n",
        "\n",
        "#predictions\n",
        "    y_train_pred_rus= model.predict(X_train_rus)\n",
        "    y_test_pred_rus= model.predict(X_test)\n",
        "    y_test_proba_rus= model.predict_proba(X_test)[:,1]#needed for AUC and AUPRC\n",
        "\n",
        "\n",
        "    #Training set performance\n",
        "    rus_train_precision= precision_score(y_train_rus, y_train_pred_rus)\n",
        "    rus_train_recall= recall_score(y_train_rus, y_train_pred_rus)\n",
        "    rus_train_f1_score= f1_score(y_train_rus, y_train_pred_rus, average='weighted')\n",
        "    rus_train_roc_auc= roc_auc_score(y_train_rus, y_train_pred_rus)\n",
        "    rus_train_auprc= average_precision_score(y_train_rus, y_train_pred_rus)\n",
        "\n",
        "        #Testing set performance\n",
        "    rus_test_precision= precision_score(y_test, y_test_pred_rus)\n",
        "    rus_test_recall= recall_score(y_test, y_test_pred_rus)\n",
        "    rus_test_f1_score= f1_score(y_test, y_test_pred_rus, average='weighted')\n",
        "    rus_test_roc_auc= roc_auc_score(y_test, y_test_pred_rus)\n",
        "    rus_test_auprc= average_precision_score(y_test, y_test_pred_rus)\n",
        "\n",
        "        #print(list(models.keys())[i])\n",
        "    print(f\"Model:{model_name}\")\n",
        "    print('Model performace for Training set with RUS')\n",
        "    print(\"- Precision : {:.4f}\".format(rus_train_precision))\n",
        "    print(\"- Recall : {:.4f}\".format(rus_train_recall))\n",
        "    print(\"- F1 Score : {:.4f}\".format(rus_train_f1_score))\n",
        "    print(\"- AUC-ROC : {:.4f}\".format(rus_train_roc_auc))\n",
        "    print(\"- AUPRC : {:.4f}\".format(rus_train_auprc))\n",
        "\n",
        "    print('----------------------------------')\n",
        "\n",
        "    print('Model performace for Testing set with RUS')\n",
        "    print(\"- Precision : {:.4f}\".format(rus_test_precision))\n",
        "    print(\"- Recall : {:.4f}\".format(rus_test_recall))\n",
        "    print(\"- F1 Score : {:.4f}\".format(rus_test_f1_score))\n",
        "    print(\"- AUC-ROC : {:.4f}\".format(rus_test_roc_auc))\n",
        "    print(\"- AUPRC : {:.4f}\".format(rus_test_auprc))\n",
        "\n",
        "    print('='*35)\n",
        "    print('\\n')"
      ],
      "metadata": {
        "colab": {
          "base_uri": "https://localhost:8080/"
        },
        "id": "xS2kzGn23o6E",
        "outputId": "b8c82ed0-70eb-4ffa-fae3-760273810071"
      },
      "execution_count": null,
      "outputs": [
        {
          "output_type": "stream",
          "name": "stdout",
          "text": [
            "Model:Logistic Regression\n",
            "Model performace for Training set with RUS\n",
            "- Precision : 0.9810\n",
            "- Recall : 0.9366\n",
            "- F1 Score : 0.9592\n",
            "- AUC-ROC : 0.9592\n",
            "- AUPRC : 0.9505\n",
            "----------------------------------\n",
            "Model performace for Testing set with RUS\n",
            "- Precision : 0.0355\n",
            "- Recall : 0.8803\n",
            "- F1 Score : 0.9780\n",
            "- AUC-ROC : 0.9202\n",
            "- AUPRC : 0.0315\n",
            "===================================\n",
            "\n",
            "\n",
            "Model:XGBoost\n",
            "Model performace for Training set with RUS\n",
            "- Precision : 1.0000\n",
            "- Recall : 1.0000\n",
            "- F1 Score : 1.0000\n",
            "- AUC-ROC : 1.0000\n",
            "- AUPRC : 1.0000\n",
            "----------------------------------\n",
            "Model performace for Testing set with RUS\n",
            "- Precision : 0.0366\n",
            "- Recall : 0.8803\n",
            "- F1 Score : 0.9786\n",
            "- AUC-ROC : 0.9208\n",
            "- AUPRC : 0.0324\n",
            "===================================\n",
            "\n",
            "\n",
            "Model:K-Nearest Neighbors\n",
            "Model performace for Training set with RUS\n",
            "- Precision : 0.9870\n",
            "- Recall : 0.9184\n",
            "- F1 Score : 0.9531\n",
            "- AUC-ROC : 0.9532\n",
            "- AUPRC : 0.9473\n",
            "----------------------------------\n",
            "Model performace for Testing set with RUS\n",
            "- Precision : 0.0514\n",
            "- Recall : 0.8592\n",
            "- F1 Score : 0.9850\n",
            "- AUC-ROC : 0.9163\n",
            "- AUPRC : 0.0444\n",
            "===================================\n",
            "\n",
            "\n",
            "Model:Decision Tree\n",
            "Model performace for Training set with RUS\n",
            "- Precision : 1.0000\n",
            "- Recall : 1.0000\n",
            "- F1 Score : 1.0000\n",
            "- AUC-ROC : 1.0000\n",
            "- AUPRC : 1.0000\n",
            "----------------------------------\n",
            "Model performace for Testing set with RUS\n",
            "- Precision : 0.0181\n",
            "- Recall : 0.8944\n",
            "- F1 Score : 0.9562\n",
            "- AUC-ROC : 0.9067\n",
            "- AUPRC : 0.0164\n",
            "===================================\n",
            "\n",
            "\n",
            "Model:Random Forest\n",
            "Model performace for Training set with RUS\n",
            "- Precision : 1.0000\n",
            "- Recall : 1.0000\n",
            "- F1 Score : 1.0000\n",
            "- AUC-ROC : 1.0000\n",
            "- AUPRC : 1.0000\n",
            "----------------------------------\n",
            "Model performace for Testing set with RUS\n",
            "- Precision : 0.0468\n",
            "- Recall : 0.8803\n",
            "- F1 Score : 0.9832\n",
            "- AUC-ROC : 0.9252\n",
            "- AUPRC : 0.0414\n",
            "===================================\n",
            "\n",
            "\n"
          ]
        }
      ]
    },
    {
      "cell_type": "code",
      "source": [
        "all_results=[]"
      ],
      "metadata": {
        "id": "canAWNMRGPUy"
      },
      "execution_count": null,
      "outputs": []
    },
    {
      "cell_type": "code",
      "source": [],
      "metadata": {
        "id": "eq54sw2PGVF4"
      },
      "execution_count": null,
      "outputs": []
    },
    {
      "cell_type": "code",
      "source": [
        "#Save in Google Drive for comparison for different notebook\n",
        "from google.colab import drive\n",
        "drive.mount('/content/drive')"
      ],
      "metadata": {
        "id": "aeOu_jaUERQR"
      },
      "execution_count": null,
      "outputs": []
    },
    {
      "cell_type": "code",
      "source": [
        "import os\n",
        "import joblib"
      ],
      "metadata": {
        "id": "zcXub8T6EymT"
      },
      "execution_count": null,
      "outputs": []
    },
    {
      "cell_type": "code",
      "source": [
        "#create directory\n",
        "os.makedirs(drive_path, exist_ok=True)"
      ],
      "metadata": {
        "id": "1xyeyUvdE951"
      },
      "execution_count": null,
      "outputs": []
    },
    {
      "cell_type": "code",
      "source": [
        "# Store the results in a dictionary and append to the list\n",
        "results = {\n",
        "        'Model': model_name,\n",
        "        'Sampling Technique': 'RUS',\n",
        "        'Train Precision': rus_train_precision,\n",
        "        'Train Recall': rus_train_recall,\n",
        "        'Train F1 Score': rus_train_f1_score,\n",
        "        'Train AUC-ROC': rus_train_roc_auc,\n",
        "        'Train AUPRC': rus_train_auprc,\n",
        "        'Test Precision': rus_test_precision,\n",
        "        'Test Recall': rus_test_recall,\n",
        "        'Test F1 Score': rus_test_f1_score,\n",
        "        'Test AUC-ROC': rus_test_roc_auc,\n",
        "        'Test AUPRC': rus_test_auprc\n",
        "}\n",
        "\n",
        "all_results.append(results)\n"
      ],
      "metadata": {
        "id": "ST2Kb2I4Iel9"
      },
      "execution_count": null,
      "outputs": []
    },
    {
      "cell_type": "code",
      "source": [
        "# Convert the list of results to a DataFrame\n",
        "results_df = pd.DataFrame(all_results)"
      ],
      "metadata": {
        "id": "eKp4V_Z8IqdZ"
      },
      "execution_count": null,
      "outputs": []
    },
    {
      "cell_type": "code",
      "source": [
        "drive_path='/content/drive/MyDrive/CCFD'"
      ],
      "metadata": {
        "id": "NtzWnkwUIv8Z"
      },
      "execution_count": null,
      "outputs": []
    },
    {
      "cell_type": "code",
      "source": [
        "# Save in Google Drive for comparison in different notebooks\n",
        "drive_path = '/content/drive/MyDrive/CCFD_Results/'\n",
        "os.makedirs(drive_path, exist_ok=True)"
      ],
      "metadata": {
        "id": "-yBXFsytI2FI"
      },
      "execution_count": null,
      "outputs": []
    },
    {
      "cell_type": "code",
      "source": [
        "# Save the results DataFrame to a CSV file\n",
        "results_file= os.path.join(drive_path, 'RUS_CCFD_results.csv')\n",
        "results_df.to_csv(results_file, index=False)"
      ],
      "metadata": {
        "id": "KAyi1VEyI6FR"
      },
      "execution_count": null,
      "outputs": []
    },
    {
      "cell_type": "code",
      "source": [
        "print(f\"Results saved to {results_file}\")"
      ],
      "metadata": {
        "id": "pkHliOx5JElH",
        "outputId": "93a40b52-d098-459f-9867-554c16a6d586",
        "colab": {
          "base_uri": "https://localhost:8080/"
        }
      },
      "execution_count": null,
      "outputs": [
        {
          "output_type": "stream",
          "name": "stdout",
          "text": [
            "Results saved to /content/drive/MyDrive/CCFD_Results/RUS_CCFD_results.csv\n"
          ]
        }
      ]
    }
  ]
}