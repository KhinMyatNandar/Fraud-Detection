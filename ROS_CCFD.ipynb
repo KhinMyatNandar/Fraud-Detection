{
  "nbformat": 4,
  "nbformat_minor": 0,
  "metadata": {
    "colab": {
      "provenance": [],
      "mount_file_id": "1adI-8uy18n2QswimQAA0v-nUwhgDeeXO",
      "authorship_tag": "ABX9TyNwhcE+EDq3TzmYJx1kNVF8",
      "include_colab_link": true
    },
    "kernelspec": {
      "name": "python3",
      "display_name": "Python 3"
    },
    "language_info": {
      "name": "python"
    }
  },
  "cells": [
    {
      "cell_type": "markdown",
      "metadata": {
        "id": "view-in-github",
        "colab_type": "text"
      },
      "source": [
        "<a href=\"https://colab.research.google.com/github/KhinMyatNandar/Fraud-Detection/blob/main/ROS_CCFD.ipynb\" target=\"_parent\"><img src=\"https://colab.research.google.com/assets/colab-badge.svg\" alt=\"Open In Colab\"/></a>"
      ]
    },
    {
      "cell_type": "code",
      "execution_count": null,
      "metadata": {
        "id": "T9YrhpiVAgDX"
      },
      "outputs": [],
      "source": [
        "#import libraries\n",
        "import numpy as np\n",
        "import pandas as pd\n",
        "import matplotlib.pyplot as plt\n",
        "import seaborn as sns\n",
        "import matplotlib as mpl\n",
        "import missingno as msno\n",
        "%matplotlib inline"
      ]
    },
    {
      "cell_type": "code",
      "source": [
        "CCFD= pd.read_csv('/content/new_creditcard.csv')"
      ],
      "metadata": {
        "id": "XBlRuDjlCTrr"
      },
      "execution_count": null,
      "outputs": []
    },
    {
      "cell_type": "code",
      "source": [
        "df=pd.DataFrame(CCFD)"
      ],
      "metadata": {
        "id": "AEOjAmkECYXx"
      },
      "execution_count": null,
      "outputs": []
    },
    {
      "cell_type": "markdown",
      "source": [
        "## Data Splitting"
      ],
      "metadata": {
        "id": "c_fodq5AG5xB"
      }
    },
    {
      "cell_type": "code",
      "source": [
        "from sklearn.model_selection import train_test_split"
      ],
      "metadata": {
        "id": "MpnyElSbGtpk"
      },
      "execution_count": null,
      "outputs": []
    },
    {
      "cell_type": "code",
      "source": [
        "#Separate the features and target variables\n",
        "X= df.drop(\"Class\", axis=1)\n",
        "y= df[\"Class\"]#target variables"
      ],
      "metadata": {
        "id": "sUEhgCmYHLpi"
      },
      "execution_count": null,
      "outputs": []
    },
    {
      "cell_type": "code",
      "source": [
        "#Split the dataset into 70% and 30%\n",
        "X_train, X_test, y_train, y_test = train_test_split(X, y, test_size=0.3,stratify=y, random_state=42)"
      ],
      "metadata": {
        "id": "u5M50fySHOb0"
      },
      "execution_count": null,
      "outputs": []
    },
    {
      "cell_type": "code",
      "source": [
        "print(f'Training set size: {X_train.shape[0]} samples')\n",
        "print(f'Testing set size: {X_test.shape[0]} samples')"
      ],
      "metadata": {
        "colab": {
          "base_uri": "https://localhost:8080/"
        },
        "id": "LvBxYLNAHQlU",
        "outputId": "d87a6b85-f1bd-431a-c274-0cc7a276389d"
      },
      "execution_count": null,
      "outputs": [
        {
          "output_type": "stream",
          "name": "stdout",
          "text": [
            "Training set size: 198608 samples\n",
            "Testing set size: 85118 samples\n"
          ]
        }
      ]
    },
    {
      "cell_type": "markdown",
      "source": [
        "#ROS"
      ],
      "metadata": {
        "id": "cTU09Z-kHUST"
      }
    },
    {
      "cell_type": "code",
      "source": [
        "pip install matplotlib seaborn"
      ],
      "metadata": {
        "colab": {
          "base_uri": "https://localhost:8080/"
        },
        "id": "iNp3Uek1HWi1",
        "outputId": "b035d525-e3e6-482c-a6ec-516050ec141e"
      },
      "execution_count": null,
      "outputs": [
        {
          "output_type": "stream",
          "name": "stdout",
          "text": [
            "Requirement already satisfied: matplotlib in /usr/local/lib/python3.10/dist-packages (3.7.1)\n",
            "Requirement already satisfied: seaborn in /usr/local/lib/python3.10/dist-packages (0.13.1)\n",
            "Requirement already satisfied: contourpy>=1.0.1 in /usr/local/lib/python3.10/dist-packages (from matplotlib) (1.2.1)\n",
            "Requirement already satisfied: cycler>=0.10 in /usr/local/lib/python3.10/dist-packages (from matplotlib) (0.12.1)\n",
            "Requirement already satisfied: fonttools>=4.22.0 in /usr/local/lib/python3.10/dist-packages (from matplotlib) (4.53.1)\n",
            "Requirement already satisfied: kiwisolver>=1.0.1 in /usr/local/lib/python3.10/dist-packages (from matplotlib) (1.4.5)\n",
            "Requirement already satisfied: numpy>=1.20 in /usr/local/lib/python3.10/dist-packages (from matplotlib) (1.26.4)\n",
            "Requirement already satisfied: packaging>=20.0 in /usr/local/lib/python3.10/dist-packages (from matplotlib) (24.1)\n",
            "Requirement already satisfied: pillow>=6.2.0 in /usr/local/lib/python3.10/dist-packages (from matplotlib) (9.4.0)\n",
            "Requirement already satisfied: pyparsing>=2.3.1 in /usr/local/lib/python3.10/dist-packages (from matplotlib) (3.1.2)\n",
            "Requirement already satisfied: python-dateutil>=2.7 in /usr/local/lib/python3.10/dist-packages (from matplotlib) (2.8.2)\n",
            "Requirement already satisfied: pandas>=1.2 in /usr/local/lib/python3.10/dist-packages (from seaborn) (2.1.4)\n",
            "Requirement already satisfied: pytz>=2020.1 in /usr/local/lib/python3.10/dist-packages (from pandas>=1.2->seaborn) (2024.1)\n",
            "Requirement already satisfied: tzdata>=2022.1 in /usr/local/lib/python3.10/dist-packages (from pandas>=1.2->seaborn) (2024.1)\n",
            "Requirement already satisfied: six>=1.5 in /usr/local/lib/python3.10/dist-packages (from python-dateutil>=2.7->matplotlib) (1.16.0)\n"
          ]
        }
      ]
    },
    {
      "cell_type": "code",
      "source": [
        "from imblearn.over_sampling import RandomOverSampler\n",
        "from collections import Counter"
      ],
      "metadata": {
        "id": "SNCKg8Z2I66u"
      },
      "execution_count": null,
      "outputs": []
    },
    {
      "cell_type": "code",
      "source": [
        "ros= RandomOverSampler(random_state=42)\n",
        "X_train_ros, y_train_ros= ros.fit_resample(X_train, y_train)"
      ],
      "metadata": {
        "id": "squyMsqTI9Dq"
      },
      "execution_count": null,
      "outputs": []
    },
    {
      "cell_type": "code",
      "source": [
        "# Display the new class distribution\n",
        "print('Original dataset shape:', Counter(y_train))\n",
        "print('ROS dataset shape:', Counter(y_train_ros))"
      ],
      "metadata": {
        "colab": {
          "base_uri": "https://localhost:8080/"
        },
        "id": "B-YFmSZyI-6a",
        "outputId": "e6f5deec-0959-441f-d34e-db84284c688a"
      },
      "execution_count": null,
      "outputs": [
        {
          "output_type": "stream",
          "name": "stdout",
          "text": [
            "Original dataset shape: Counter({0: 198277, 1: 331})\n",
            "ROS dataset shape: Counter({0: 198277, 1: 198277})\n"
          ]
        }
      ]
    },
    {
      "cell_type": "code",
      "source": [
        "# Plot the class distribution after ROS\n",
        "ros_distribution = Counter(y_train_ros)\n",
        "\n",
        "plt.figure(figsize=(10, 5))\n",
        "sns.barplot(x=list(ros_distribution.keys()), y=list(ros_distribution.values()))\n",
        "plt.title('Class Distribution After Random Over-Sampling (ROS)')\n",
        "plt.xlabel('Class')\n",
        "plt.ylabel('Frequency')\n",
        "plt.show()"
      ],
      "metadata": {
        "colab": {
          "base_uri": "https://localhost:8080/",
          "height": 487
        },
        "id": "4h19L3_CJBmd",
        "outputId": "193adfde-7ab8-4232-eb96-cd19b17e9809"
      },
      "execution_count": null,
      "outputs": [
        {
          "output_type": "display_data",
          "data": {
            "text/plain": [
              "<Figure size 1000x500 with 1 Axes>"
            ],
            "image/png": "[encoded data removed]"
          },
          "metadata": {}
        }
      ]
    },
    {
      "cell_type": "markdown",
      "source": [
        "##Model Training"
      ],
      "metadata": {
        "id": "wMAlQRqzJD2T"
      }
    },
    {
      "cell_type": "code",
      "source": [
        "pip install xgboost scikit-learn imbalanced-learn"
      ],
      "metadata": {
        "colab": {
          "base_uri": "https://localhost:8080/"
        },
        "id": "j450_iweJIMT",
        "outputId": "622ccd76-9530-47bd-d0b9-1e3e2d1f8306"
      },
      "execution_count": null,
      "outputs": [
        {
          "output_type": "stream",
          "name": "stdout",
          "text": [
            "Requirement already satisfied: xgboost in /usr/local/lib/python3.10/dist-packages (2.1.1)\n",
            "Requirement already satisfied: scikit-learn in /usr/local/lib/python3.10/dist-packages (1.3.2)\n",
            "Requirement already satisfied: imbalanced-learn in /usr/local/lib/python3.10/dist-packages (0.12.3)\n",
            "Requirement already satisfied: numpy in /usr/local/lib/python3.10/dist-packages (from xgboost) (1.26.4)\n",
            "Collecting nvidia-nccl-cu12 (from xgboost)\n",
            "  Downloading nvidia_nccl_cu12-2.22.3-py3-none-manylinux2014_x86_64.whl.metadata (1.8 kB)\n",
            "Requirement already satisfied: scipy in /usr/local/lib/python3.10/dist-packages (from xgboost) (1.13.1)\n",
            "Requirement already satisfied: joblib>=1.1.1 in /usr/local/lib/python3.10/dist-packages (from scikit-learn) (1.4.2)\n",
            "Requirement already satisfied: threadpoolctl>=2.0.0 in /usr/local/lib/python3.10/dist-packages (from scikit-learn) (3.5.0)\n",
            "Downloading nvidia_nccl_cu12-2.22.3-py3-none-manylinux2014_x86_64.whl (190.9 MB)\n",
            "\u001b[2K   \u001b[90m━━━━━━━━━━━━━━━━━━━━━━━━━━━━━━━━━━━━━━━━\u001b[0m \u001b[32m190.9/190.9 MB\u001b[0m \u001b[31m4.4 MB/s\u001b[0m eta \u001b[36m0:00:00\u001b[0m\n",
            "\u001b[?25hInstalling collected packages: nvidia-nccl-cu12\n",
            "\u001b[31mERROR: pip's dependency resolver does not currently take into account all the packages that are installed. This behaviour is the source of the following dependency conflicts.\n",
            "torch 2.3.1+cu121 requires nvidia-cublas-cu12==12.1.3.1; platform_system == \"Linux\" and platform_machine == \"x86_64\", which is not installed.\n",
            "torch 2.3.1+cu121 requires nvidia-cuda-cupti-cu12==12.1.105; platform_system == \"Linux\" and platform_machine == \"x86_64\", which is not installed.\n",
            "torch 2.3.1+cu121 requires nvidia-cuda-nvrtc-cu12==12.1.105; platform_system == \"Linux\" and platform_machine == \"x86_64\", which is not installed.\n",
            "torch 2.3.1+cu121 requires nvidia-cuda-runtime-cu12==12.1.105; platform_system == \"Linux\" and platform_machine == \"x86_64\", which is not installed.\n",
            "torch 2.3.1+cu121 requires nvidia-cudnn-cu12==8.9.2.26; platform_system == \"Linux\" and platform_machine == \"x86_64\", which is not installed.\n",
            "torch 2.3.1+cu121 requires nvidia-cufft-cu12==11.0.2.54; platform_system == \"Linux\" and platform_machine == \"x86_64\", which is not installed.\n",
            "torch 2.3.1+cu121 requires nvidia-curand-cu12==10.3.2.106; platform_system == \"Linux\" and platform_machine == \"x86_64\", which is not installed.\n",
            "torch 2.3.1+cu121 requires nvidia-cusolver-cu12==11.4.5.107; platform_system == \"Linux\" and platform_machine == \"x86_64\", which is not installed.\n",
            "torch 2.3.1+cu121 requires nvidia-cusparse-cu12==12.1.0.106; platform_system == \"Linux\" and platform_machine == \"x86_64\", which is not installed.\n",
            "torch 2.3.1+cu121 requires nvidia-nvtx-cu12==12.1.105; platform_system == \"Linux\" and platform_machine == \"x86_64\", which is not installed.\n",
            "torch 2.3.1+cu121 requires nvidia-nccl-cu12==2.20.5; platform_system == \"Linux\" and platform_machine == \"x86_64\", but you have nvidia-nccl-cu12 2.22.3 which is incompatible.\u001b[0m\u001b[31m\n",
            "\u001b[0mSuccessfully installed nvidia-nccl-cu12-2.22.3\n"
          ]
        }
      ]
    },
    {
      "cell_type": "code",
      "source": [
        "from sklearn.metrics import average_precision_score, roc_auc_score, f1_score, recall_score, precision_score, roc_curve, auc, classification_report, roc_auc_score\n",
        "from xgboost import XGBClassifier\n",
        "from sklearn.neighbors import KNeighborsClassifier\n",
        "from sklearn.tree import DecisionTreeClassifier\n",
        "from sklearn.ensemble import RandomForestClassifier\n",
        "from sklearn.linear_model import LogisticRegression"
      ],
      "metadata": {
        "id": "dy5NuJCcJNnx"
      },
      "execution_count": null,
      "outputs": []
    },
    {
      "cell_type": "code",
      "source": [
        "# Defining the models\n",
        "models={\n",
        "    \"Logistic Regression\": LogisticRegression(random_state=42, max_iter=1000),\n",
        "    \"XGBoost\": XGBClassifier(eval_metric='logloss', random_state=42),\n",
        "    \"K-Nearest Neighbors\": KNeighborsClassifier(),\n",
        "    \"Decision Tree\": DecisionTreeClassifier(random_state=42),\n",
        "    \"Random Forest\": RandomForestClassifier(random_state=42)\n",
        "}\n",
        "for i in range(len(list(models))):\n",
        "  #model= list(models.values())[i]#youtube\n",
        "    model_name=list(models.keys())[i]\n",
        "    model=list(models.values())[i]\n",
        "    #print(f\"Training {model}...\") #to ensure loop is worked\n",
        "    model.fit(X_train_ros, y_train_ros)#train model\n",
        "\n",
        "\n",
        "#predictions\n",
        "    y_train_pred_ros= model.predict(X_train_ros)\n",
        "    y_test_pred_ros= model.predict(X_test)\n",
        "    y_test_proba_ros= model.predict_proba(X_test)[:,1]#needed for AUC and AUPRC\n",
        "\n",
        "\n",
        "    #Training set performance\n",
        "    ros_train_precision= precision_score(y_train_ros, y_train_pred_ros)\n",
        "    ros_train_recall= recall_score(y_train_ros, y_train_pred_ros)\n",
        "    ros_train_f1_score= f1_score(y_train_ros, y_train_pred_ros, average='weighted')\n",
        "    ros_train_roc_auc= roc_auc_score(y_train_ros, y_train_pred_ros)\n",
        "    ros_train_auprc= average_precision_score(y_train_ros, y_train_pred_ros)\n",
        "\n",
        "        #Testing set performance\n",
        "    ros_test_precision= precision_score(y_test, y_test_pred_ros)\n",
        "    ros_test_recall= recall_score(y_test, y_test_pred_ros)\n",
        "    ros_test_f1_score= f1_score(y_test, y_test_pred_ros, average='weighted')\n",
        "    ros_test_roc_auc= roc_auc_score(y_test, y_test_pred_ros)\n",
        "    ros_test_auprc= average_precision_score(y_test, y_test_pred_ros)\n",
        "\n",
        "        #print(list(models.keys())[i])\n",
        "    print(f\"Model:{model_name}\")\n",
        "    print('Model performace for Training set with ROS')\n",
        "    print(\"- Precision : {:.4f}\".format(ros_train_precision))\n",
        "    print(\"- Recall : {:.4f}\".format(ros_train_recall))\n",
        "    print(\"- F1 Score : {:.4f}\".format(ros_train_f1_score))\n",
        "    print(\"- AUC-ROC : {:.4f}\".format(ros_train_roc_auc))\n",
        "    print(\"- AUPRC : {:.4f}\".format(ros_train_auprc))\n",
        "\n",
        "    print('----------------------------------')\n",
        "\n",
        "    print('Model performace for Testing set with ROS')\n",
        "    print(\"- Precision : {:.4f}\".format(ros_test_precision))\n",
        "    print(\"- Recall : {:.4f}\".format(ros_test_recall))\n",
        "    print(\"- F1 Score : {:.4f}\".format(ros_test_f1_score))\n",
        "    print(\"- AUC-ROC : {:.4f}\".format(ros_test_roc_auc))\n",
        "    print(\"- AUPRC : {:.4f}\".format(ros_test_auprc))\n",
        "\n",
        "    print('='*35)\n",
        "    print('\\n')"
      ],
      "metadata": {
        "colab": {
          "base_uri": "https://localhost:8080/"
        },
        "id": "Ig6IjFdpJ_XZ",
        "outputId": "a8f2faf7-f93a-45e1-d4d7-39e5163a992c"
      },
      "execution_count": null,
      "outputs": [
        {
          "output_type": "stream",
          "name": "stdout",
          "text": [
            "Model:Logistic Regression\n",
            "Model performace for Training set with ROS\n",
            "- Precision : 0.9725\n",
            "- Recall : 0.9213\n",
            "- F1 Score : 0.9476\n",
            "- AUC-ROC : 0.9476\n",
            "- AUPRC : 0.9353\n",
            "----------------------------------\n",
            "Model performace for Testing set with ROS\n",
            "- Precision : 0.0529\n",
            "- Recall : 0.8873\n",
            "- F1 Score : 0.9850\n",
            "- AUC-ROC : 0.9304\n",
            "- AUPRC : 0.0471\n",
            "===================================\n",
            "\n",
            "\n",
            "Model:XGBoost\n",
            "Model performace for Training set with ROS\n",
            "- Precision : 1.0000\n",
            "- Recall : 1.0000\n",
            "- F1 Score : 1.0000\n",
            "- AUC-ROC : 1.0000\n",
            "- AUPRC : 1.0000\n",
            "----------------------------------\n",
            "Model performace for Testing set with ROS\n",
            "- Precision : 0.9469\n",
            "- Recall : 0.7535\n",
            "- F1 Score : 0.9995\n",
            "- AUC-ROC : 0.8767\n",
            "- AUPRC : 0.7139\n",
            "===================================\n",
            "\n",
            "\n",
            "Model:K-Nearest Neighbors\n",
            "Model performace for Training set with ROS\n",
            "- Precision : 0.9996\n",
            "- Recall : 1.0000\n",
            "- F1 Score : 0.9998\n",
            "- AUC-ROC : 0.9998\n",
            "- AUPRC : 0.9996\n",
            "----------------------------------\n",
            "Model performace for Testing set with ROS\n",
            "- Precision : 0.7037\n",
            "- Recall : 0.8028\n",
            "- F1 Score : 0.9991\n",
            "- AUC-ROC : 0.9011\n",
            "- AUPRC : 0.5653\n",
            "===================================\n",
            "\n",
            "\n",
            "Model:Decision Tree\n",
            "Model performace for Training set with ROS\n",
            "- Precision : 1.0000\n",
            "- Recall : 1.0000\n",
            "- F1 Score : 1.0000\n",
            "- AUC-ROC : 1.0000\n",
            "- AUPRC : 1.0000\n",
            "----------------------------------\n",
            "Model performace for Testing set with ROS\n",
            "- Precision : 0.7937\n",
            "- Recall : 0.7042\n",
            "- F1 Score : 0.9992\n",
            "- AUC-ROC : 0.8520\n",
            "- AUPRC : 0.5594\n",
            "===================================\n",
            "\n",
            "\n",
            "Model:Random Forest\n",
            "Model performace for Training set with ROS\n",
            "- Precision : 1.0000\n",
            "- Recall : 1.0000\n",
            "- F1 Score : 1.0000\n",
            "- AUC-ROC : 1.0000\n",
            "- AUPRC : 1.0000\n",
            "----------------------------------\n",
            "Model performace for Testing set with ROS\n",
            "- Precision : 0.9630\n",
            "- Recall : 0.7324\n",
            "- F1 Score : 0.9995\n",
            "- AUC-ROC : 0.8662\n",
            "- AUPRC : 0.7057\n",
            "===================================\n",
            "\n",
            "\n"
          ]
        }
      ]
    }
  ]
}