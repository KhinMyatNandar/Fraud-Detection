{
  "nbformat": 4,
  "nbformat_minor": 0,
  "metadata": {
    "colab": {
      "provenance": [],
      "authorship_tag": "ABX9TyM+IJitowwhVrnmWjWQhMX0",
      "include_colab_link": true
    },
    "kernelspec": {
      "name": "python3",
      "display_name": "Python 3"
    },
    "language_info": {
      "name": "python"
    }
  },
  "cells": [
    {
      "cell_type": "markdown",
      "metadata": {
        "id": "view-in-github",
        "colab_type": "text"
      },
      "source": [
        "<a href=\"https://colab.research.google.com/github/KhinMyatNandar/Fraud-Detection/blob/main/SMOTE_ENN.ipynb\" target=\"_parent\"><img src=\"https://colab.research.google.com/assets/colab-badge.svg\" alt=\"Open In Colab\"/></a>"
      ]
    },
    {
      "cell_type": "code",
      "execution_count": null,
      "metadata": {
        "id": "iquOVoSJwdq0"
      },
      "outputs": [],
      "source": [
        "import numpy as np\n",
        "import pandas as pd\n",
        "import matplotlib.pyplot as plt\n",
        "import seaborn as sns\n",
        "from collections import Counter\n",
        "from sklearn.model_selection import train_test_split\n",
        "from imblearn.combine import SMOTEENN\n",
        "from sklearn.metrics import precision_score, recall_score, f1_score, roc_auc_score, average_precision_score\n",
        "from xgboost import XGBClassifier\n",
        "from sklearn.neighbors import KNeighborsClassifier\n",
        "from sklearn.tree import DecisionTreeClassifier\n",
        "from sklearn.ensemble import RandomForestClassifier\n",
        "from sklearn.linear_model import LogisticRegression"
      ]
    },
    {
      "cell_type": "code",
      "source": [
        "CCFD= pd.read_csv('/content/new_creditcard.csv')"
      ],
      "metadata": {
        "id": "duqtZWFtzpPh"
      },
      "execution_count": null,
      "outputs": []
    },
    {
      "cell_type": "code",
      "source": [
        "df=pd.DataFrame(CCFD)"
      ],
      "metadata": {
        "id": "mHntsY5AzqkN"
      },
      "execution_count": null,
      "outputs": []
    },
    {
      "cell_type": "code",
      "source": [
        "X=df.drop('Class', axis=1)\n",
        "y=df['Class']"
      ],
      "metadata": {
        "id": "0jxcR4tXzvLc"
      },
      "execution_count": null,
      "outputs": []
    },
    {
      "cell_type": "code",
      "source": [
        "X_train, X_test, y_train, y_test = train_test_split(X, y, test_size=0.3, random_state=42)"
      ],
      "metadata": {
        "id": "I2lew8lBzx_G"
      },
      "execution_count": null,
      "outputs": []
    },
    {
      "cell_type": "code",
      "source": [
        "SMOTE_ENN = SMOTEENN(random_state=42)\n",
        "X_train_smoteenn, y_train_smoteenn = SMOTE_ENN.fit_resample(X_train, y_train)"
      ],
      "metadata": {
        "id": "dDcNxM8Fz1BC"
      },
      "execution_count": null,
      "outputs": []
    },
    {
      "cell_type": "code",
      "source": [
        "# Display the new class distribution\n",
        "print('Original dataset shape:', Counter(y_train))\n",
        "print('smote_enn dataset shape:', Counter(y_train_smoteenn))"
      ],
      "metadata": {
        "colab": {
          "base_uri": "https://localhost:8080/"
        },
        "id": "1bjyPAC5z_SX",
        "outputId": "7bce5161-4249-4e0f-b1b4-c0c418aea1ac"
      },
      "execution_count": null,
      "outputs": [
        {
          "output_type": "stream",
          "name": "stdout",
          "text": [
            "Original dataset shape: Counter({0: 198269, 1: 339})\n",
            "smote_enn dataset shape: Counter({1: 198269, 0: 198014})\n"
          ]
        }
      ]
    },
    {
      "cell_type": "code",
      "source": [
        "#plot the class distribution after SMOTE_ENN\n",
        "smote_enn_distribution = Counter(y_train_smoteenn)\n",
        "plt.figure(figsize=(8, 6))\n",
        "sns.barplot(x=list(smote_enn_distribution.keys()), y=list(smote_enn_distribution.values()))\n",
        "plt.xlabel('Class')\n",
        "plt.ylabel('Frequency')\n",
        "plt.title('Class Distribution after SMOTE_ENN')"
      ],
      "metadata": {
        "colab": {
          "base_uri": "https://localhost:8080/",
          "height": 582
        },
        "id": "Xv8VWXFKUP3X",
        "outputId": "69f96e24-cc7b-4700-b365-9e3d2e04324e"
      },
      "execution_count": null,
      "outputs": [
        {
          "output_type": "execute_result",
          "data": {
            "text/plain": [
              "Text(0.5, 1.0, 'Class Distribution after SMOTE_ENN')"
            ]
          },
          "metadata": {},
          "execution_count": 8
        },
        {
          "output_type": "display_data",
          "data": {
            "text/plain": [
              "<Figure size 800x600 with 1 Axes>"
            ],
            "image/png": "[encoded data removed]"
          },
          "metadata": {}
        }
      ]
    },
    {
      "cell_type": "code",
      "source": [
        "# Defining the models\n",
        "models={\n",
        "    \"Logistic Regression\": LogisticRegression(random_state=42, max_iter=1000),\n",
        "    \"XGBoost\": XGBClassifier(eval_metric='logloss', random_state=42),\n",
        "    \"K-Nearest Neighbors\": KNeighborsClassifier(),\n",
        "    \"Decision Tree\": DecisionTreeClassifier(random_state=42),\n",
        "    \"Random Forest\": RandomForestClassifier(random_state=42)\n",
        "}\n",
        "for i in range(len(list(models))):\n",
        "  #model= list(models.values())[i]#youtube\n",
        "    model_name=list(models.keys())[i]\n",
        "    model=list(models.values())[i]\n",
        "    #print(f\"Training {model}...\") #to ensure loop is worked\n",
        "    model.fit(X_train_smoteenn, y_train_smoteenn)#train model\n",
        "\n",
        " #predictions\n",
        "    y_train_pred_smoteenn= model.predict(X_train_smoteenn)\n",
        "    y_test_pred_smoteenn= model.predict(X_test)\n",
        "    y_test_proba_smoteenn= model.predict_proba(X_test)[:,1]#needed for AUC and AUPRC\n",
        "\n",
        "        #Training set performance\n",
        "    smoteenn_train_precision= precision_score(y_train_smoteenn, y_train_pred_smoteenn)\n",
        "    smoteenn_train_recall= recall_score(y_train_smoteenn, y_train_pred_smoteenn)\n",
        "    smoteenn_train_f1_score= f1_score(y_train_smoteenn, y_train_pred_smoteenn, average='weighted')\n",
        "    smoteenn_train_roc_auc= roc_auc_score(y_train_smoteenn, y_train_pred_smoteenn)\n",
        "    smoteenn_train_auprc= average_precision_score(y_train_smoteenn, y_train_pred_smoteenn)\n",
        "     #Testing set performance\n",
        "    smoteenn_test_precision= precision_score(y_test, y_test_pred_smoteenn)\n",
        "    smoteenn_test_recall= recall_score(y_test, y_test_pred_smoteenn)\n",
        "    smoteenn_test_f1_score= f1_score(y_test, y_test_pred_smoteenn, average='weighted')\n",
        "    smoteenn_test_roc_auc= roc_auc_score(y_test, y_test_pred_smoteenn)\n",
        "    smoteenn_test_auprc= average_precision_score(y_test, y_test_pred_smoteenn)"
      ],
      "metadata": {
        "id": "VEmGf_oxVGRt"
      },
      "execution_count": null,
      "outputs": []
    },
    {
      "cell_type": "code",
      "source": [],
      "metadata": {
        "colab": {
          "base_uri": "https://localhost:8080/",
          "height": 109
        },
        "id": "2YP6cb9M7uNw",
        "outputId": "791c5b6b-50da-4456-af7b-6d57cc21413d"
      },
      "execution_count": null,
      "outputs": [
        {
          "output_type": "error",
          "ename": "IndentationError",
          "evalue": "unexpected indent (<ipython-input-9-98feaeeec11b>, line 2)",
          "traceback": [
            "\u001b[0;36m  File \u001b[0;32m\"<ipython-input-9-98feaeeec11b>\"\u001b[0;36m, line \u001b[0;32m2\u001b[0m\n\u001b[0;31m    y_train_pred_smoteenn= model.predict(X_train_smoteenn)\u001b[0m\n\u001b[0m    ^\u001b[0m\n\u001b[0;31mIndentationError\u001b[0m\u001b[0;31m:\u001b[0m unexpected indent\n"
          ]
        }
      ]
    },
    {
      "cell_type": "code",
      "source": [],
      "metadata": {
        "colab": {
          "base_uri": "https://localhost:8080/",
          "height": 109
        },
        "id": "gT8L671DxoPF",
        "outputId": "9348038f-6ae1-4963-9643-8e71443e1970"
      },
      "execution_count": null,
      "outputs": [
        {
          "output_type": "error",
          "ename": "IndentationError",
          "evalue": "unexpected indent (<ipython-input-12-8aebe3441adb>, line 2)",
          "traceback": [
            "\u001b[0;36m  File \u001b[0;32m\"<ipython-input-12-8aebe3441adb>\"\u001b[0;36m, line \u001b[0;32m2\u001b[0m\n\u001b[0;31m    y_train_pred_smoteenn= model.predict(X_train_smoteenn)\u001b[0m\n\u001b[0m    ^\u001b[0m\n\u001b[0;31mIndentationError\u001b[0m\u001b[0;31m:\u001b[0m unexpected indent\n"
          ]
        }
      ]
    },
    {
      "cell_type": "code",
      "source": [],
      "metadata": {
        "id": "QPrqGsQ7xqoK"
      },
      "execution_count": null,
      "outputs": []
    },
    {
      "cell_type": "code",
      "source": [],
      "metadata": {
        "id": "-dMppwd4xs0J"
      },
      "execution_count": null,
      "outputs": []
    },
    {
      "cell_type": "code",
      "source": [
        "       #print(list(models.keys())[i])\n",
        "    print(f\"Model:{model_name}\")\n",
        "    print('Model performace for Training set with smoteenn')\n",
        "    print(\"- Precision : {:.4f}\".format(smoteenn_train_precision))\n",
        "    print(\"- Recall : {:.4f}\".format(smoteenn_train_recall))\n",
        "    print(\"- F1 Score : {:.4f}\".format(smoteenn_train_f1_score))\n",
        "    print(\"- AUC-ROC : {:.4f}\".format(smoteenn_train_roc_auc))\n",
        "    print(\"- AUPRC : {:.4f}\".format(smoteenn_train_auprc))\n",
        "\n",
        "    print('----------------------------------')\n",
        "\n",
        "    print('Model performace for Testing set with smoteenn')\n",
        "    print(\"- Precision : {:.4f}\".format(smoteenn_test_precision))\n",
        "    print(\"- Recall : {:.4f}\".format(smoteenn_test_recall))\n",
        "    print(\"- F1 Score : {:.4f}\".format(smoteenn_test_f1_score))\n",
        "    print(\"- AUC-ROC : {:.4f}\".format(smoteenn_test_roc_auc))\n",
        "    print(\"- AUPRC : {:.4f}\".format(smoteenn_test_auprc))\n",
        "\n",
        "    print('='*35)\n",
        "    print('\\n')"
      ],
      "metadata": {
        "id": "5M91_un1wlRW"
      },
      "execution_count": null,
      "outputs": []
    },
    {
      "cell_type": "code",
      "source": [
        "    # Recalculate metrics without retraining\n",
        "    smoteenn_test_precision = precision_score(y_test, y_test_pred_smoteenn)\n",
        "    smoteenn_test_recall = recall_score(y_test, y_test_pred_smoteenn)\n",
        "    smoteenn_test_f1_score = f1_score(y_test, y_test_pred_smoteenn, average='weighted')\n",
        "    smoteenn_test_roc_auc = roc_auc_score(y_test, y_test_pred_smoteenn)\n",
        "    smoteenn_test_auprc = average_precision_score(y_test, y_test_pred_smoteenn)"
      ],
      "metadata": {
        "colab": {
          "base_uri": "https://localhost:8080/",
          "height": 218
        },
        "id": "RTJaUxVAzebM",
        "outputId": "6c62913b-28f6-4872-bcab-ef40f492dfda"
      },
      "execution_count": null,
      "outputs": [
        {
          "output_type": "error",
          "ename": "NameError",
          "evalue": "name 'y_test_pred_smoteenn' is not defined",
          "traceback": [
            "\u001b[0;31m---------------------------------------------------------------------------\u001b[0m",
            "\u001b[0;31mNameError\u001b[0m                                 Traceback (most recent call last)",
            "\u001b[0;32m<ipython-input-10-e382a45e8056>\u001b[0m in \u001b[0;36m<cell line: 2>\u001b[0;34m()\u001b[0m\n\u001b[1;32m      1\u001b[0m \u001b[0;31m# Recalculate metrics without retraining\u001b[0m\u001b[0;34m\u001b[0m\u001b[0;34m\u001b[0m\u001b[0m\n\u001b[0;32m----> 2\u001b[0;31m \u001b[0msmoteenn_test_precision\u001b[0m \u001b[0;34m=\u001b[0m \u001b[0mprecision_score\u001b[0m\u001b[0;34m(\u001b[0m\u001b[0my_test\u001b[0m\u001b[0;34m,\u001b[0m \u001b[0my_test_pred_smoteenn\u001b[0m\u001b[0;34m)\u001b[0m\u001b[0;34m\u001b[0m\u001b[0;34m\u001b[0m\u001b[0m\n\u001b[0m\u001b[1;32m      3\u001b[0m \u001b[0msmoteenn_test_recall\u001b[0m \u001b[0;34m=\u001b[0m \u001b[0mrecall_score\u001b[0m\u001b[0;34m(\u001b[0m\u001b[0my_test\u001b[0m\u001b[0;34m,\u001b[0m \u001b[0my_test_pred_smoteenn\u001b[0m\u001b[0;34m)\u001b[0m\u001b[0;34m\u001b[0m\u001b[0;34m\u001b[0m\u001b[0m\n\u001b[1;32m      4\u001b[0m \u001b[0msmoteenn_test_f1_score\u001b[0m \u001b[0;34m=\u001b[0m \u001b[0mf1_score\u001b[0m\u001b[0;34m(\u001b[0m\u001b[0my_test\u001b[0m\u001b[0;34m,\u001b[0m \u001b[0my_test_pred_smoteenn\u001b[0m\u001b[0;34m,\u001b[0m \u001b[0maverage\u001b[0m\u001b[0;34m=\u001b[0m\u001b[0;34m'weighted'\u001b[0m\u001b[0;34m)\u001b[0m\u001b[0;34m\u001b[0m\u001b[0;34m\u001b[0m\u001b[0m\n\u001b[1;32m      5\u001b[0m \u001b[0msmoteenn_test_roc_auc\u001b[0m \u001b[0;34m=\u001b[0m \u001b[0mroc_auc_score\u001b[0m\u001b[0;34m(\u001b[0m\u001b[0my_test\u001b[0m\u001b[0;34m,\u001b[0m \u001b[0my_test_pred_smoteenn\u001b[0m\u001b[0;34m)\u001b[0m\u001b[0;34m\u001b[0m\u001b[0;34m\u001b[0m\u001b[0m\n",
            "\u001b[0;31mNameError\u001b[0m: name 'y_test_pred_smoteenn' is not defined"
          ]
        }
      ]
    },
    {
      "cell_type": "code",
      "source": [
        "    # Save the results\n",
        "    results = {\n",
        "        \"Model\": model_name,\n",
        "        \"Sampling Technique\": \"SMOTE-ENN\",  # Change this as per the notebook\n",
        "        \"Test Precision\": smoteenn_test_precision,\n",
        "        \"Test Recall\": smoteenn_test_recall,\n",
        "        \"Test F1 Score\": smoteenn_test_f1_score,\n",
        "        \"Test AUC-ROC\": smoteenn_test_roc_auc,\n",
        "        \"Test AUPRC\": smoteenn_test_auprc\n",
        "    }"
      ],
      "metadata": {
        "id": "v0tupxgdzo7l"
      },
      "execution_count": null,
      "outputs": []
    },
    {
      "cell_type": "code",
      "source": [
        "results_df = pd.DataFrame([results])\n",
        "results_df.to_csv(f'{model_name}_smoteenn_results.csv', index=False)"
      ],
      "metadata": {
        "id": "NGlabuWgzrNi"
      },
      "execution_count": null,
      "outputs": []
    }
  ]
}